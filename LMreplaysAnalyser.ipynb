{
  "nbformat": 4,
  "nbformat_minor": 0,
  "metadata": {
    "colab": {
      "provenance": [],
      "collapsed_sections": []
    },
    "kernelspec": {
      "name": "python3",
      "display_name": "Python 3"
    },
    "language_info": {
      "name": "python"
    }
  },
  "cells": [
    {
      "cell_type": "code",
      "source": [
        "#@title Initialization { vertical-output: true, display-mode: \"form\" }\n",
        "!pip install pyunpack\n",
        "!pip install patool\n",
        "!pip install -Iv Pillow==9.3.0\n",
        "!pip install colour\n",
        "import subprocess, os\n",
        "os.system(\"rm -r *\")\n",
        "os.system(\"git clone https://github.com/dphdmn/15puzzleSolverForGC\")\n",
        "os.system(\"git clone https://github.com/dphdmn/LMscramblesProject\")\n",
        "from LMscramblesProject import scramblesExtract, scramblesParser, solutionsInsert, statsAnalyser\n",
        "from google.colab import files\n",
        "import shutil\n",
        "from pyunpack import Archive\n",
        "os.chdir(\"/content\")\n",
        "os.mkdir('replays')\n",
        "os.mkdir('inputFile')\n",
        "os.mkdir('outputFiles')\n",
        "os.chdir(\"15puzzleSolverForGC\")\n",
        "os.system(\"chmod +x solver3\")\n",
        "os.system(\"chmod +x solver4\")\n",
        "os.system(\"chmod +x run.sh\")\n",
        "os.chdir(\"/content\")\n",
        "outputFile=\"outputFiles/output.txt\"\n",
        "inputFile=\"inputFile/input.txt\"\n",
        "statsFile=\"outputFiles/stats.txt\"\n",
        "imageFile=\"outputFiles/image.png\"\n",
        "replaysFolder=\"replays/\"\n",
        "scramblesPath=\"15puzzleSolverForGC/scrambles\"\n",
        "solutionsPath=\"15puzzleSolverForGC/solutions\""
      ],
      "metadata": {
        "id": "9VpIwZ4b5A8L"
      },
      "execution_count": null,
      "outputs": []
    },
    {
      "cell_type": "code",
      "source": [
        "#@title Choose ZIP archive of your replays (please don't use subfolders, and only add replay files in archive)\n",
        "uploaded = files.upload()\n",
        "for filename in uploaded.keys():\n",
        "  dst_path = filename\n",
        "  print(f'move {filename} to {dst_path}')\n",
        "  shutil.move(filename, dst_path)\n",
        "  Archive(filename).extractall(replaysFolder)\n",
        "  os.system(\"rm \" + filename)"
      ],
      "metadata": {
        "id": "Nkw7ixPFezgu",
        "cellView": "form"
      },
      "execution_count": null,
      "outputs": []
    },
    {
      "cell_type": "code",
      "source": [
        "#@title Choose your solve file (standard LM export output as txt file, without the header line, only solves list, 1 file)\n",
        "uploaded = files.upload()\n",
        "for filename in uploaded.keys():\n",
        "  dst_path = inputFile\n",
        "  print(f'move {filename} to {dst_path}')\n",
        "  shutil.move(filename, dst_path)"
      ],
      "metadata": {
        "id": "_fau_AFDi_ej",
        "cellView": "form"
      },
      "execution_count": null,
      "outputs": []
    },
    {
      "cell_type": "code",
      "source": [
        "#@title Parse scrambles, solve, and generate output/stats file, before running enter GMT timezone in hours (You can find stats with scrambles added in outputFiles folder)\n",
        "timezone = 8 #@param {type:\"number\"}\n",
        "scramblesParser.parse(replaysFolder, inputFile, outputFile, -timezone)\n",
        "scramblesExtract.extractScrambles(outputFile, scramblesPath)\n",
        "os.chdir(\"15puzzleSolverForGC\")\n",
        "subprocess.call(\"./run.sh\", shell=True)\n",
        "solutions=[]\n",
        "with open(\"solutions\", \"r\") as f:\n",
        "  d = f.readlines()\n",
        "  for i in d:\n",
        "    if i != \"done\\n\" and i != \"\\n\":\n",
        "      solutions.append(i)\n",
        "with open(\"solutions\", \"w\") as f:\n",
        "  for s in solutions:\n",
        "    f.write(s)\n",
        "os.chdir(\"/content\")\n",
        "solutionsInsert.insertSolutions(solutionsPath, outputFile, statsFile)"
      ],
      "metadata": {
        "id": "SVzXZm6B0WFm",
        "cellView": "form"
      },
      "execution_count": 8,
      "outputs": []
    },
    {
      "cell_type": "code",
      "source": [
        "#@title Analyse stats and get the image! (choose resolution, optimal = 2000)\n",
        "resolution = 2000 #@param {type:\"integer\"}\n",
        "fontpath = \"LMscramblesProject/calibri_font.ttf\"\n",
        "statsAnalyser.analyseAndRender(statsFile, resolution, imageFile, fontpath)\n",
        "from IPython.display import Image as dispImg\n",
        "dispImg(imageFile)"
      ],
      "metadata": {
        "id": "--PTrDo1PmI6",
        "cellView": "form"
      },
      "execution_count": null,
      "outputs": []
    }
  ]
}